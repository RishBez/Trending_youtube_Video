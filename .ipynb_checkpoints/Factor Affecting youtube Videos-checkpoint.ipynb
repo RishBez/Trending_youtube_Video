{
 "cells": [
  {
   "cell_type": "markdown",
   "id": "e5e66bce",
   "metadata": {},
   "source": [
    "<div id=\"Introduction\">\n",
    "<h1 style=\"background:black;padding:5%\">\n",
    "    <span style=\"color:red\"> Factor Affecting</span><span style=\"color:white\"> Trending Video</span><span style=\"color:red\"> On Youtube. </span>\n",
    "    <img style=\"width:50px;height:50px; top-padding:3%; background:white\" src=\"./youtube.svg\">\n",
    "</h1>\n",
    "</div>"
   ]
  },
  {
   "cell_type": "markdown",
   "id": "97aa8528",
   "metadata": {},
   "source": [
    "## Youtube is a online video sharing and social media platform, headquatered in California, United States. Accessable Worldwide, It was launched on February 14, 2005 by Jawed Karim, Steve Chen and Chad Hurley. Its parent company is Google and is the second most visited website just after google search. It has over 2.5 billion monthlty active user, who watch around 1 billion hours of video every day.. \n",
    "\n",
    "<h2 style=\"color:red\">continue this and plz relate this to video and our analisys.. </h2>\n",
    "\n",
    "***"
   ]
  },
  {
   "cell_type": "markdown",
   "id": "5843a3db",
   "metadata": {},
   "source": [
    "<a id=\"ProjectAim\"></a>\n",
    "## Problem Statement!!!!"
   ]
  },
  {
   "cell_type": "markdown",
   "id": "fb46fa93",
   "metadata": {},
   "source": [
    "The aim of this research project is to investigate and analyse the key factor influencing the trending videos on one of the most popular and most visited video sharing platform, Youtube. \n",
    "With such a dynamic and competitive landscape of online content and content creation, understanding the variables that contribute to a video's popularity is essential for content creators, marketers, and platform algorithms.By diving into the diverse dimensions of video content, engagement metrics, this study seeks to unveil patterns and correlations that underlie the success of YouTube videos in trending categories. Through a comprehensive examination, the project aims to provide insights that can empower content creators to optimize their strategies and enhance the overall comprehension of video trends within the YouTube platform.\n",
    "\n",
    "The study is split up into four main objective\n",
    "* How does factor like description, tags and title effect trending of videos!!!!\n",
    "* Ob2\n",
    "* Ob3\n",
    "* Ob4"
   ]
  },
  {
   "cell_type": "markdown",
   "id": "7d974fdc",
   "metadata": {},
   "source": [
    "<a id=\"Table\"></a>\n",
    "# Table of Content\n",
    "* [Introduction](#Introduction)\n",
    "* [Problem Statement](#ProjectAim)\n",
    "    * [How does factor like description, tags and title effect trending of videos!!!!](#obj1)\n",
    "    * [Objective 2](#obj2)\n",
    "    * [Objective 3](#obj3)\n",
    "    * [Objective 4](#obj4)\n",
    "* [Table of Content](#Table)\n",
    "* [Importing modules](#importm)\n",
    "* [Importing DataSet](#importD)\n",
    "    * [Importing video dataset (C.S.V)](#csvData)\n",
    "    * [Importing category dataset (JSON)](#jsonData)\n",
    "* [Common methods](#common)\n",
    "* [Exploratory Data Analysis (E.D.A)](#eda)\n",
    "    * [Video dataset EDA](#edavideo)\n",
    "    * [Category dataset EDA](#edacat)\n",
    "* [Objective 1 : How does factor like description, tags and title effect trending of videos!!!!](#obj1)\n",
    "    * [.. make sub objective if required](#obj1a)\n",
    "* [Objective 2](#obj2)\n",
    "    * [.. make sub objective if required](#obj2a)\n",
    "* [Objective 3](#obj3)\n",
    "    * [.. make sub objective if required](#obj3a)\n",
    "* [Objective 4](#obj4)\n",
    "    * [.. make sub objective if required](#obj4a)\n",
    "* [Conclusion](#conclusion)"
   ]
  },
  {
   "cell_type": "markdown",
   "id": "64f84097",
   "metadata": {},
   "source": [
    "<a id=\"importm\"> </a>\n",
    "## Importing required modules"
   ]
  },
  {
   "cell_type": "code",
   "execution_count": 1,
   "id": "58835ba0",
   "metadata": {
    "scrolled": true
   },
   "outputs": [],
   "source": [
    "import pandas as pd \n",
    "import matplotlib.pyplot as plt\n",
    "import numpy as np\n",
    "import seaborn as sns\n",
    "import json"
   ]
  },
  {
   "cell_type": "markdown",
   "id": "eaa2a409",
   "metadata": {},
   "source": [
    "<a id=\"importD\"></a>\n",
    "## Importing Data"
   ]
  },
  {
   "cell_type": "markdown",
   "id": "ee10d4b0",
   "metadata": {},
   "source": [
    "* The sourge of the data was Kaggle, one of the most popular data science competition platform and online community of data scientists and machine learning practitioners under Google LLC.\n",
    "* The data we are targeting is \"Trending YouTube Video Statistics\" This dataset is a daily record of the top trending YouTube videos.\n",
    "* MetaData of DataSet\n",
    "    * The data is segrated into two source a comma seperated values (c.s.v) and a json.\n",
    "    * The csv contain video records while json contain details of category of these videos.\n",
    "    * The data contain 40K+ record of trending videos in Canada over the span of two years!!\n",
    "    * With 40K+ rows the data also contain 16 columns including but not limited to title, publish time, views, like, dislike.\n",
    "    * The json file contain 31 categories with nested json with each category details."
   ]
  },
  {
   "cell_type": "markdown",
   "id": "5a67eb82",
   "metadata": {},
   "source": [
    "<a id=\"csvData\"></a>\n",
    "### Importing video dataset (C.S.V)"
   ]
  },
  {
   "cell_type": "code",
   "execution_count": 2,
   "id": "4ee7efbf",
   "metadata": {
    "scrolled": false
   },
   "outputs": [
    {
     "data": {
      "text/html": [
       "<div>\n",
       "<style scoped>\n",
       "    .dataframe tbody tr th:only-of-type {\n",
       "        vertical-align: middle;\n",
       "    }\n",
       "\n",
       "    .dataframe tbody tr th {\n",
       "        vertical-align: top;\n",
       "    }\n",
       "\n",
       "    .dataframe thead th {\n",
       "        text-align: right;\n",
       "    }\n",
       "</style>\n",
       "<table border=\"1\" class=\"dataframe\">\n",
       "  <thead>\n",
       "    <tr style=\"text-align: right;\">\n",
       "      <th></th>\n",
       "      <th>video_id</th>\n",
       "      <th>trending_date</th>\n",
       "      <th>title</th>\n",
       "      <th>channel_title</th>\n",
       "      <th>category_id</th>\n",
       "      <th>publish_time</th>\n",
       "      <th>tags</th>\n",
       "      <th>views</th>\n",
       "      <th>likes</th>\n",
       "      <th>dislikes</th>\n",
       "      <th>comment_count</th>\n",
       "      <th>thumbnail_link</th>\n",
       "      <th>comments_disabled</th>\n",
       "      <th>ratings_disabled</th>\n",
       "      <th>video_error_or_removed</th>\n",
       "      <th>description</th>\n",
       "    </tr>\n",
       "  </thead>\n",
       "  <tbody>\n",
       "    <tr>\n",
       "      <th>0</th>\n",
       "      <td>n1WpP7iowLc</td>\n",
       "      <td>17.14.11</td>\n",
       "      <td>Eminem - Walk On Water (Audio) ft. Beyoncé</td>\n",
       "      <td>EminemVEVO</td>\n",
       "      <td>10</td>\n",
       "      <td>2017-11-10T17:00:03.000Z</td>\n",
       "      <td>Eminem|\"Walk\"|\"On\"|\"Water\"|\"Aftermath/Shady/In...</td>\n",
       "      <td>17158579</td>\n",
       "      <td>787425</td>\n",
       "      <td>43420</td>\n",
       "      <td>125882</td>\n",
       "      <td>https://i.ytimg.com/vi/n1WpP7iowLc/default.jpg</td>\n",
       "      <td>False</td>\n",
       "      <td>False</td>\n",
       "      <td>False</td>\n",
       "      <td>Eminem's new track Walk on Water ft. Beyoncé i...</td>\n",
       "    </tr>\n",
       "    <tr>\n",
       "      <th>1</th>\n",
       "      <td>0dBIkQ4Mz1M</td>\n",
       "      <td>17.14.11</td>\n",
       "      <td>PLUSH - Bad Unboxing Fan Mail</td>\n",
       "      <td>iDubbbzTV</td>\n",
       "      <td>23</td>\n",
       "      <td>2017-11-13T17:00:00.000Z</td>\n",
       "      <td>plush|\"bad unboxing\"|\"unboxing\"|\"fan mail\"|\"id...</td>\n",
       "      <td>1014651</td>\n",
       "      <td>127794</td>\n",
       "      <td>1688</td>\n",
       "      <td>13030</td>\n",
       "      <td>https://i.ytimg.com/vi/0dBIkQ4Mz1M/default.jpg</td>\n",
       "      <td>False</td>\n",
       "      <td>False</td>\n",
       "      <td>False</td>\n",
       "      <td>STill got a lot of packages. Probably will las...</td>\n",
       "    </tr>\n",
       "    <tr>\n",
       "      <th>2</th>\n",
       "      <td>5qpjK5DgCt4</td>\n",
       "      <td>17.14.11</td>\n",
       "      <td>Racist Superman | Rudy Mancuso, King Bach &amp; Le...</td>\n",
       "      <td>Rudy Mancuso</td>\n",
       "      <td>23</td>\n",
       "      <td>2017-11-12T19:05:24.000Z</td>\n",
       "      <td>racist superman|\"rudy\"|\"mancuso\"|\"king\"|\"bach\"...</td>\n",
       "      <td>3191434</td>\n",
       "      <td>146035</td>\n",
       "      <td>5339</td>\n",
       "      <td>8181</td>\n",
       "      <td>https://i.ytimg.com/vi/5qpjK5DgCt4/default.jpg</td>\n",
       "      <td>False</td>\n",
       "      <td>False</td>\n",
       "      <td>False</td>\n",
       "      <td>WATCH MY PREVIOUS VIDEO ▶ \\n\\nSUBSCRIBE ► http...</td>\n",
       "    </tr>\n",
       "    <tr>\n",
       "      <th>3</th>\n",
       "      <td>d380meD0W0M</td>\n",
       "      <td>17.14.11</td>\n",
       "      <td>I Dare You: GOING BALD!?</td>\n",
       "      <td>nigahiga</td>\n",
       "      <td>24</td>\n",
       "      <td>2017-11-12T18:01:41.000Z</td>\n",
       "      <td>ryan|\"higa\"|\"higatv\"|\"nigahiga\"|\"i dare you\"|\"...</td>\n",
       "      <td>2095828</td>\n",
       "      <td>132239</td>\n",
       "      <td>1989</td>\n",
       "      <td>17518</td>\n",
       "      <td>https://i.ytimg.com/vi/d380meD0W0M/default.jpg</td>\n",
       "      <td>False</td>\n",
       "      <td>False</td>\n",
       "      <td>False</td>\n",
       "      <td>I know it's been a while since we did this sho...</td>\n",
       "    </tr>\n",
       "    <tr>\n",
       "      <th>4</th>\n",
       "      <td>2Vv-BfVoq4g</td>\n",
       "      <td>17.14.11</td>\n",
       "      <td>Ed Sheeran - Perfect (Official Music Video)</td>\n",
       "      <td>Ed Sheeran</td>\n",
       "      <td>10</td>\n",
       "      <td>2017-11-09T11:04:14.000Z</td>\n",
       "      <td>edsheeran|\"ed sheeran\"|\"acoustic\"|\"live\"|\"cove...</td>\n",
       "      <td>33523622</td>\n",
       "      <td>1634130</td>\n",
       "      <td>21082</td>\n",
       "      <td>85067</td>\n",
       "      <td>https://i.ytimg.com/vi/2Vv-BfVoq4g/default.jpg</td>\n",
       "      <td>False</td>\n",
       "      <td>False</td>\n",
       "      <td>False</td>\n",
       "      <td>🎧: https://ad.gt/yt-perfect\\n💰: https://atlant...</td>\n",
       "    </tr>\n",
       "  </tbody>\n",
       "</table>\n",
       "</div>"
      ],
      "text/plain": [
       "      video_id trending_date  \\\n",
       "0  n1WpP7iowLc      17.14.11   \n",
       "1  0dBIkQ4Mz1M      17.14.11   \n",
       "2  5qpjK5DgCt4      17.14.11   \n",
       "3  d380meD0W0M      17.14.11   \n",
       "4  2Vv-BfVoq4g      17.14.11   \n",
       "\n",
       "                                               title channel_title  \\\n",
       "0         Eminem - Walk On Water (Audio) ft. Beyoncé    EminemVEVO   \n",
       "1                      PLUSH - Bad Unboxing Fan Mail     iDubbbzTV   \n",
       "2  Racist Superman | Rudy Mancuso, King Bach & Le...  Rudy Mancuso   \n",
       "3                           I Dare You: GOING BALD!?      nigahiga   \n",
       "4        Ed Sheeran - Perfect (Official Music Video)    Ed Sheeran   \n",
       "\n",
       "   category_id              publish_time  \\\n",
       "0           10  2017-11-10T17:00:03.000Z   \n",
       "1           23  2017-11-13T17:00:00.000Z   \n",
       "2           23  2017-11-12T19:05:24.000Z   \n",
       "3           24  2017-11-12T18:01:41.000Z   \n",
       "4           10  2017-11-09T11:04:14.000Z   \n",
       "\n",
       "                                                tags     views    likes  \\\n",
       "0  Eminem|\"Walk\"|\"On\"|\"Water\"|\"Aftermath/Shady/In...  17158579   787425   \n",
       "1  plush|\"bad unboxing\"|\"unboxing\"|\"fan mail\"|\"id...   1014651   127794   \n",
       "2  racist superman|\"rudy\"|\"mancuso\"|\"king\"|\"bach\"...   3191434   146035   \n",
       "3  ryan|\"higa\"|\"higatv\"|\"nigahiga\"|\"i dare you\"|\"...   2095828   132239   \n",
       "4  edsheeran|\"ed sheeran\"|\"acoustic\"|\"live\"|\"cove...  33523622  1634130   \n",
       "\n",
       "   dislikes  comment_count                                  thumbnail_link  \\\n",
       "0     43420         125882  https://i.ytimg.com/vi/n1WpP7iowLc/default.jpg   \n",
       "1      1688          13030  https://i.ytimg.com/vi/0dBIkQ4Mz1M/default.jpg   \n",
       "2      5339           8181  https://i.ytimg.com/vi/5qpjK5DgCt4/default.jpg   \n",
       "3      1989          17518  https://i.ytimg.com/vi/d380meD0W0M/default.jpg   \n",
       "4     21082          85067  https://i.ytimg.com/vi/2Vv-BfVoq4g/default.jpg   \n",
       "\n",
       "   comments_disabled  ratings_disabled  video_error_or_removed  \\\n",
       "0              False             False                   False   \n",
       "1              False             False                   False   \n",
       "2              False             False                   False   \n",
       "3              False             False                   False   \n",
       "4              False             False                   False   \n",
       "\n",
       "                                         description  \n",
       "0  Eminem's new track Walk on Water ft. Beyoncé i...  \n",
       "1  STill got a lot of packages. Probably will las...  \n",
       "2  WATCH MY PREVIOUS VIDEO ▶ \\n\\nSUBSCRIBE ► http...  \n",
       "3  I know it's been a while since we did this sho...  \n",
       "4  🎧: https://ad.gt/yt-perfect\\n💰: https://atlant...  "
      ]
     },
     "execution_count": 2,
     "metadata": {},
     "output_type": "execute_result"
    }
   ],
   "source": [
    "videoDF = pd.read_csv(\"../archive/CAvideos.csv\")\n",
    "videoDF.head(5)"
   ]
  },
  {
   "cell_type": "markdown",
   "id": "6cf1b01d",
   "metadata": {},
   "source": [
    "<a id=\"jsonData\"></a>\n",
    "### Importing category dataset (JSON)"
   ]
  },
  {
   "cell_type": "code",
   "execution_count": 3,
   "id": "52838c3f",
   "metadata": {
    "scrolled": true
   },
   "outputs": [
    {
     "data": {
      "text/html": [
       "<div>\n",
       "<style scoped>\n",
       "    .dataframe tbody tr th:only-of-type {\n",
       "        vertical-align: middle;\n",
       "    }\n",
       "\n",
       "    .dataframe tbody tr th {\n",
       "        vertical-align: top;\n",
       "    }\n",
       "\n",
       "    .dataframe thead th {\n",
       "        text-align: right;\n",
       "    }\n",
       "</style>\n",
       "<table border=\"1\" class=\"dataframe\">\n",
       "  <thead>\n",
       "    <tr style=\"text-align: right;\">\n",
       "      <th></th>\n",
       "      <th>kind</th>\n",
       "      <th>etag</th>\n",
       "      <th>items</th>\n",
       "    </tr>\n",
       "  </thead>\n",
       "  <tbody>\n",
       "    <tr>\n",
       "      <th>0</th>\n",
       "      <td>youtube#videoCategoryListResponse</td>\n",
       "      <td>\"ld9biNPKjAjgjV7EZ4EKeEGrhao/1v2mrzYSYG6onNLt2...</td>\n",
       "      <td>{'kind': 'youtube#videoCategory', 'etag': '\"ld...</td>\n",
       "    </tr>\n",
       "    <tr>\n",
       "      <th>1</th>\n",
       "      <td>youtube#videoCategoryListResponse</td>\n",
       "      <td>\"ld9biNPKjAjgjV7EZ4EKeEGrhao/1v2mrzYSYG6onNLt2...</td>\n",
       "      <td>{'kind': 'youtube#videoCategory', 'etag': '\"ld...</td>\n",
       "    </tr>\n",
       "    <tr>\n",
       "      <th>2</th>\n",
       "      <td>youtube#videoCategoryListResponse</td>\n",
       "      <td>\"ld9biNPKjAjgjV7EZ4EKeEGrhao/1v2mrzYSYG6onNLt2...</td>\n",
       "      <td>{'kind': 'youtube#videoCategory', 'etag': '\"ld...</td>\n",
       "    </tr>\n",
       "    <tr>\n",
       "      <th>3</th>\n",
       "      <td>youtube#videoCategoryListResponse</td>\n",
       "      <td>\"ld9biNPKjAjgjV7EZ4EKeEGrhao/1v2mrzYSYG6onNLt2...</td>\n",
       "      <td>{'kind': 'youtube#videoCategory', 'etag': '\"ld...</td>\n",
       "    </tr>\n",
       "    <tr>\n",
       "      <th>4</th>\n",
       "      <td>youtube#videoCategoryListResponse</td>\n",
       "      <td>\"ld9biNPKjAjgjV7EZ4EKeEGrhao/1v2mrzYSYG6onNLt2...</td>\n",
       "      <td>{'kind': 'youtube#videoCategory', 'etag': '\"ld...</td>\n",
       "    </tr>\n",
       "  </tbody>\n",
       "</table>\n",
       "</div>"
      ],
      "text/plain": [
       "                                kind  \\\n",
       "0  youtube#videoCategoryListResponse   \n",
       "1  youtube#videoCategoryListResponse   \n",
       "2  youtube#videoCategoryListResponse   \n",
       "3  youtube#videoCategoryListResponse   \n",
       "4  youtube#videoCategoryListResponse   \n",
       "\n",
       "                                                etag  \\\n",
       "0  \"ld9biNPKjAjgjV7EZ4EKeEGrhao/1v2mrzYSYG6onNLt2...   \n",
       "1  \"ld9biNPKjAjgjV7EZ4EKeEGrhao/1v2mrzYSYG6onNLt2...   \n",
       "2  \"ld9biNPKjAjgjV7EZ4EKeEGrhao/1v2mrzYSYG6onNLt2...   \n",
       "3  \"ld9biNPKjAjgjV7EZ4EKeEGrhao/1v2mrzYSYG6onNLt2...   \n",
       "4  \"ld9biNPKjAjgjV7EZ4EKeEGrhao/1v2mrzYSYG6onNLt2...   \n",
       "\n",
       "                                               items  \n",
       "0  {'kind': 'youtube#videoCategory', 'etag': '\"ld...  \n",
       "1  {'kind': 'youtube#videoCategory', 'etag': '\"ld...  \n",
       "2  {'kind': 'youtube#videoCategory', 'etag': '\"ld...  \n",
       "3  {'kind': 'youtube#videoCategory', 'etag': '\"ld...  \n",
       "4  {'kind': 'youtube#videoCategory', 'etag': '\"ld...  "
      ]
     },
     "execution_count": 3,
     "metadata": {},
     "output_type": "execute_result"
    }
   ],
   "source": [
    "categoryDf = pd.read_json(\"../archive/CA_category_id.json\")\n",
    "categoryDf.head(5)"
   ]
  },
  {
   "cell_type": "markdown",
   "id": "77d8b23b",
   "metadata": {},
   "source": [
    "<a id=\"common\"></a>\n",
    "## Common Methods"
   ]
  },
  {
   "cell_type": "code",
   "execution_count": 4,
   "id": "f29042fd",
   "metadata": {},
   "outputs": [],
   "source": [
    "#### ADD Commmon methods here!!!!!"
   ]
  },
  {
   "cell_type": "code",
   "execution_count": 5,
   "id": "fc32c386",
   "metadata": {},
   "outputs": [],
   "source": [
    "# method to print Json Object in readable format.. \n",
    "def printJsonObject(obj):\n",
    "    line_list = obj.split(\"\\n\")\n",
    "    for line in line_list:\n",
    "        print(line)"
   ]
  },
  {
   "cell_type": "code",
   "execution_count": 6,
   "id": "b6d1c80a",
   "metadata": {},
   "outputs": [],
   "source": [
    "# method to get category\n",
    "def getCategoryFromJson(data):\n",
    "    category = {}\n",
    "    for i, row in data.iterrows():\n",
    "        tempdict = dict(row)\n",
    "        category[tempdict[\"items\"][\"id\"]]= tempdict[\"items\"][\"snippet\"][\"title\"]\n",
    "    return category"
   ]
  },
  {
   "cell_type": "code",
   "execution_count": 7,
   "id": "f43e9a19",
   "metadata": {},
   "outputs": [],
   "source": [
    "# method to get combine dataFrames \n",
    "def appendCategoryToDataFrame(dataFrame,category):\n",
    "    tempList = []\n",
    "    for i,row in dataFrame.iterrows():\n",
    "        if str(row[\"category_id\"]) in category.keys():\n",
    "            tempList.append(category[str(row[\"category_id\"])])\n",
    "        else :\n",
    "            tempList.append(None)\n",
    "    dataFrame[\"category_name\"] = tempList\n",
    "    return dataFrame"
   ]
  },
  {
   "cell_type": "markdown",
   "id": "b9bdb4eb",
   "metadata": {},
   "source": [
    "<a id=\"eda\"></a>\n",
    "## Exploratory Data Analysis (E.D.A)"
   ]
  },
  {
   "cell_type": "markdown",
   "id": "423e0939",
   "metadata": {},
   "source": [
    "<a id=\"edavideo\"></a>\n",
    "### Video Dataset EDA"
   ]
  },
  {
   "cell_type": "code",
   "execution_count": 8,
   "id": "70981545",
   "metadata": {},
   "outputs": [
    {
     "data": {
      "text/plain": [
       "Index(['video_id', 'trending_date', 'title', 'channel_title', 'category_id',\n",
       "       'publish_time', 'tags', 'views', 'likes', 'dislikes', 'comment_count',\n",
       "       'thumbnail_link', 'comments_disabled', 'ratings_disabled',\n",
       "       'video_error_or_removed', 'description'],\n",
       "      dtype='object')"
      ]
     },
     "execution_count": 8,
     "metadata": {},
     "output_type": "execute_result"
    }
   ],
   "source": [
    "videoDF.columns"
   ]
  },
  {
   "cell_type": "code",
   "execution_count": 9,
   "id": "39ed64cd",
   "metadata": {},
   "outputs": [
    {
     "name": "stdout",
     "output_type": "stream",
     "text": [
      "<class 'pandas.core.frame.DataFrame'>\n",
      "RangeIndex: 40881 entries, 0 to 40880\n",
      "Data columns (total 16 columns):\n",
      " #   Column                  Non-Null Count  Dtype \n",
      "---  ------                  --------------  ----- \n",
      " 0   video_id                40881 non-null  object\n",
      " 1   trending_date           40881 non-null  object\n",
      " 2   title                   40881 non-null  object\n",
      " 3   channel_title           40881 non-null  object\n",
      " 4   category_id             40881 non-null  int64 \n",
      " 5   publish_time            40881 non-null  object\n",
      " 6   tags                    40881 non-null  object\n",
      " 7   views                   40881 non-null  int64 \n",
      " 8   likes                   40881 non-null  int64 \n",
      " 9   dislikes                40881 non-null  int64 \n",
      " 10  comment_count           40881 non-null  int64 \n",
      " 11  thumbnail_link          40881 non-null  object\n",
      " 12  comments_disabled       40881 non-null  bool  \n",
      " 13  ratings_disabled        40881 non-null  bool  \n",
      " 14  video_error_or_removed  40881 non-null  bool  \n",
      " 15  description             39585 non-null  object\n",
      "dtypes: bool(3), int64(5), object(8)\n",
      "memory usage: 4.2+ MB\n"
     ]
    }
   ],
   "source": [
    "videoDF.info()"
   ]
  },
  {
   "cell_type": "code",
   "execution_count": 10,
   "id": "e306154f",
   "metadata": {},
   "outputs": [
    {
     "data": {
      "text/html": [
       "<div>\n",
       "<style scoped>\n",
       "    .dataframe tbody tr th:only-of-type {\n",
       "        vertical-align: middle;\n",
       "    }\n",
       "\n",
       "    .dataframe tbody tr th {\n",
       "        vertical-align: top;\n",
       "    }\n",
       "\n",
       "    .dataframe thead th {\n",
       "        text-align: right;\n",
       "    }\n",
       "</style>\n",
       "<table border=\"1\" class=\"dataframe\">\n",
       "  <thead>\n",
       "    <tr style=\"text-align: right;\">\n",
       "      <th></th>\n",
       "      <th>category_id</th>\n",
       "      <th>views</th>\n",
       "      <th>likes</th>\n",
       "      <th>dislikes</th>\n",
       "      <th>comment_count</th>\n",
       "    </tr>\n",
       "  </thead>\n",
       "  <tbody>\n",
       "    <tr>\n",
       "      <th>count</th>\n",
       "      <td>40881.000000</td>\n",
       "      <td>4.088100e+04</td>\n",
       "      <td>4.088100e+04</td>\n",
       "      <td>4.088100e+04</td>\n",
       "      <td>4.088100e+04</td>\n",
       "    </tr>\n",
       "    <tr>\n",
       "      <th>mean</th>\n",
       "      <td>20.795553</td>\n",
       "      <td>1.147036e+06</td>\n",
       "      <td>3.958269e+04</td>\n",
       "      <td>2.009195e+03</td>\n",
       "      <td>5.042975e+03</td>\n",
       "    </tr>\n",
       "    <tr>\n",
       "      <th>std</th>\n",
       "      <td>6.775054</td>\n",
       "      <td>3.390913e+06</td>\n",
       "      <td>1.326895e+05</td>\n",
       "      <td>1.900837e+04</td>\n",
       "      <td>2.157902e+04</td>\n",
       "    </tr>\n",
       "    <tr>\n",
       "      <th>min</th>\n",
       "      <td>1.000000</td>\n",
       "      <td>7.330000e+02</td>\n",
       "      <td>0.000000e+00</td>\n",
       "      <td>0.000000e+00</td>\n",
       "      <td>0.000000e+00</td>\n",
       "    </tr>\n",
       "    <tr>\n",
       "      <th>25%</th>\n",
       "      <td>20.000000</td>\n",
       "      <td>1.439020e+05</td>\n",
       "      <td>2.191000e+03</td>\n",
       "      <td>9.900000e+01</td>\n",
       "      <td>4.170000e+02</td>\n",
       "    </tr>\n",
       "    <tr>\n",
       "      <th>50%</th>\n",
       "      <td>24.000000</td>\n",
       "      <td>3.712040e+05</td>\n",
       "      <td>8.780000e+03</td>\n",
       "      <td>3.030000e+02</td>\n",
       "      <td>1.301000e+03</td>\n",
       "    </tr>\n",
       "    <tr>\n",
       "      <th>75%</th>\n",
       "      <td>24.000000</td>\n",
       "      <td>9.633020e+05</td>\n",
       "      <td>2.871700e+04</td>\n",
       "      <td>9.500000e+02</td>\n",
       "      <td>3.713000e+03</td>\n",
       "    </tr>\n",
       "    <tr>\n",
       "      <th>max</th>\n",
       "      <td>43.000000</td>\n",
       "      <td>1.378431e+08</td>\n",
       "      <td>5.053338e+06</td>\n",
       "      <td>1.602383e+06</td>\n",
       "      <td>1.114800e+06</td>\n",
       "    </tr>\n",
       "  </tbody>\n",
       "</table>\n",
       "</div>"
      ],
      "text/plain": [
       "        category_id         views         likes      dislikes  comment_count\n",
       "count  40881.000000  4.088100e+04  4.088100e+04  4.088100e+04   4.088100e+04\n",
       "mean      20.795553  1.147036e+06  3.958269e+04  2.009195e+03   5.042975e+03\n",
       "std        6.775054  3.390913e+06  1.326895e+05  1.900837e+04   2.157902e+04\n",
       "min        1.000000  7.330000e+02  0.000000e+00  0.000000e+00   0.000000e+00\n",
       "25%       20.000000  1.439020e+05  2.191000e+03  9.900000e+01   4.170000e+02\n",
       "50%       24.000000  3.712040e+05  8.780000e+03  3.030000e+02   1.301000e+03\n",
       "75%       24.000000  9.633020e+05  2.871700e+04  9.500000e+02   3.713000e+03\n",
       "max       43.000000  1.378431e+08  5.053338e+06  1.602383e+06   1.114800e+06"
      ]
     },
     "execution_count": 10,
     "metadata": {},
     "output_type": "execute_result"
    }
   ],
   "source": [
    "videoDF.describe()"
   ]
  },
  {
   "cell_type": "markdown",
   "id": "8db118c0",
   "metadata": {},
   "source": [
    "<a id=\"edacat\"></a>\n",
    "### Category Dataset EDA"
   ]
  },
  {
   "cell_type": "code",
   "execution_count": 11,
   "id": "9ec02f74",
   "metadata": {},
   "outputs": [
    {
     "data": {
      "text/plain": [
       "Index(['kind', 'etag', 'items'], dtype='object')"
      ]
     },
     "execution_count": 11,
     "metadata": {},
     "output_type": "execute_result"
    }
   ],
   "source": [
    "categoryDf.columns"
   ]
  },
  {
   "cell_type": "code",
   "execution_count": 12,
   "id": "cebeae34",
   "metadata": {},
   "outputs": [
    {
     "data": {
      "text/html": [
       "<div>\n",
       "<style scoped>\n",
       "    .dataframe tbody tr th:only-of-type {\n",
       "        vertical-align: middle;\n",
       "    }\n",
       "\n",
       "    .dataframe tbody tr th {\n",
       "        vertical-align: top;\n",
       "    }\n",
       "\n",
       "    .dataframe thead th {\n",
       "        text-align: right;\n",
       "    }\n",
       "</style>\n",
       "<table border=\"1\" class=\"dataframe\">\n",
       "  <thead>\n",
       "    <tr style=\"text-align: right;\">\n",
       "      <th></th>\n",
       "      <th>kind</th>\n",
       "      <th>etag</th>\n",
       "      <th>items</th>\n",
       "    </tr>\n",
       "  </thead>\n",
       "  <tbody>\n",
       "    <tr>\n",
       "      <th>count</th>\n",
       "      <td>31</td>\n",
       "      <td>31</td>\n",
       "      <td>31</td>\n",
       "    </tr>\n",
       "    <tr>\n",
       "      <th>unique</th>\n",
       "      <td>1</td>\n",
       "      <td>1</td>\n",
       "      <td>31</td>\n",
       "    </tr>\n",
       "    <tr>\n",
       "      <th>top</th>\n",
       "      <td>youtube#videoCategoryListResponse</td>\n",
       "      <td>\"ld9biNPKjAjgjV7EZ4EKeEGrhao/1v2mrzYSYG6onNLt2...</td>\n",
       "      <td>{'kind': 'youtube#videoCategory', 'etag': '\"ld...</td>\n",
       "    </tr>\n",
       "    <tr>\n",
       "      <th>freq</th>\n",
       "      <td>31</td>\n",
       "      <td>31</td>\n",
       "      <td>1</td>\n",
       "    </tr>\n",
       "  </tbody>\n",
       "</table>\n",
       "</div>"
      ],
      "text/plain": [
       "                                     kind  \\\n",
       "count                                  31   \n",
       "unique                                  1   \n",
       "top     youtube#videoCategoryListResponse   \n",
       "freq                                   31   \n",
       "\n",
       "                                                     etag  \\\n",
       "count                                                  31   \n",
       "unique                                                  1   \n",
       "top     \"ld9biNPKjAjgjV7EZ4EKeEGrhao/1v2mrzYSYG6onNLt2...   \n",
       "freq                                                   31   \n",
       "\n",
       "                                                    items  \n",
       "count                                                  31  \n",
       "unique                                                 31  \n",
       "top     {'kind': 'youtube#videoCategory', 'etag': '\"ld...  \n",
       "freq                                                    1  "
      ]
     },
     "execution_count": 12,
     "metadata": {},
     "output_type": "execute_result"
    }
   ],
   "source": [
    "categoryDf.describe()"
   ]
  },
  {
   "cell_type": "code",
   "execution_count": 13,
   "id": "68c3703d",
   "metadata": {},
   "outputs": [
    {
     "name": "stdout",
     "output_type": "stream",
     "text": [
      "<class 'pandas.core.frame.DataFrame'>\n",
      "RangeIndex: 31 entries, 0 to 30\n",
      "Data columns (total 3 columns):\n",
      " #   Column  Non-Null Count  Dtype \n",
      "---  ------  --------------  ----- \n",
      " 0   kind    31 non-null     object\n",
      " 1   etag    31 non-null     object\n",
      " 2   items   31 non-null     object\n",
      "dtypes: object(3)\n",
      "memory usage: 872.0+ bytes\n"
     ]
    }
   ],
   "source": [
    "categoryDf.info()"
   ]
  },
  {
   "cell_type": "code",
   "execution_count": 14,
   "id": "8d67bdc6",
   "metadata": {},
   "outputs": [
    {
     "name": "stdout",
     "output_type": "stream",
     "text": [
      "{\n",
      " \"kind\": \"youtube#videoCategory\",\n",
      " \"etag\": \"\\\"ld9biNPKjAjgjV7EZ4EKeEGrhao/Xy1mB4_yLrHy_BmKmPBggty2mZQ\\\"\",\n",
      " \"id\": \"1\",\n",
      " \"snippet\": {\n",
      "  \"channelId\": \"UCBR8-60-B28hp2BmDPdntcQ\",\n",
      "  \"title\": \"Film & Animation\",\n",
      "  \"assignable\": true\n",
      " }\n",
      "}\n"
     ]
    }
   ],
   "source": [
    "## Exploring an complete json item in category dataset\n",
    "output = json.dumps(categoryDf.iloc[0][\"items\"],indent=1)\n",
    "printJsonObject(output)"
   ]
  },
  {
   "cell_type": "markdown",
   "id": "25c61f3d",
   "metadata": {},
   "source": [
    "<a id=\"obj1\"></a>\n",
    "## Objective 1 : How does factor like description, tags and title effect trending of videos!!!!"
   ]
  },
  {
   "cell_type": "code",
   "execution_count": 15,
   "id": "e818fd77",
   "metadata": {},
   "outputs": [],
   "source": [
    "## Making copy of original dataframe\n",
    "videoDFCP = videoDF.copy()"
   ]
  },
  {
   "cell_type": "code",
   "execution_count": 16,
   "id": "efd49663",
   "metadata": {},
   "outputs": [
    {
     "data": {
      "text/html": [
       "<div>\n",
       "<style scoped>\n",
       "    .dataframe tbody tr th:only-of-type {\n",
       "        vertical-align: middle;\n",
       "    }\n",
       "\n",
       "    .dataframe tbody tr th {\n",
       "        vertical-align: top;\n",
       "    }\n",
       "\n",
       "    .dataframe thead th {\n",
       "        text-align: right;\n",
       "    }\n",
       "</style>\n",
       "<table border=\"1\" class=\"dataframe\">\n",
       "  <thead>\n",
       "    <tr style=\"text-align: right;\">\n",
       "      <th></th>\n",
       "      <th>video_id</th>\n",
       "      <th>trending_date</th>\n",
       "      <th>title</th>\n",
       "      <th>channel_title</th>\n",
       "      <th>category_id</th>\n",
       "      <th>publish_time</th>\n",
       "      <th>tags</th>\n",
       "      <th>views</th>\n",
       "      <th>likes</th>\n",
       "      <th>dislikes</th>\n",
       "      <th>comment_count</th>\n",
       "      <th>thumbnail_link</th>\n",
       "      <th>comments_disabled</th>\n",
       "      <th>ratings_disabled</th>\n",
       "      <th>video_error_or_removed</th>\n",
       "      <th>description</th>\n",
       "      <th>category_name</th>\n",
       "    </tr>\n",
       "  </thead>\n",
       "  <tbody>\n",
       "    <tr>\n",
       "      <th>0</th>\n",
       "      <td>n1WpP7iowLc</td>\n",
       "      <td>17.14.11</td>\n",
       "      <td>Eminem - Walk On Water (Audio) ft. Beyoncé</td>\n",
       "      <td>EminemVEVO</td>\n",
       "      <td>10</td>\n",
       "      <td>2017-11-10T17:00:03.000Z</td>\n",
       "      <td>Eminem|\"Walk\"|\"On\"|\"Water\"|\"Aftermath/Shady/In...</td>\n",
       "      <td>17158579</td>\n",
       "      <td>787425</td>\n",
       "      <td>43420</td>\n",
       "      <td>125882</td>\n",
       "      <td>https://i.ytimg.com/vi/n1WpP7iowLc/default.jpg</td>\n",
       "      <td>False</td>\n",
       "      <td>False</td>\n",
       "      <td>False</td>\n",
       "      <td>Eminem's new track Walk on Water ft. Beyoncé i...</td>\n",
       "      <td>Music</td>\n",
       "    </tr>\n",
       "    <tr>\n",
       "      <th>1</th>\n",
       "      <td>0dBIkQ4Mz1M</td>\n",
       "      <td>17.14.11</td>\n",
       "      <td>PLUSH - Bad Unboxing Fan Mail</td>\n",
       "      <td>iDubbbzTV</td>\n",
       "      <td>23</td>\n",
       "      <td>2017-11-13T17:00:00.000Z</td>\n",
       "      <td>plush|\"bad unboxing\"|\"unboxing\"|\"fan mail\"|\"id...</td>\n",
       "      <td>1014651</td>\n",
       "      <td>127794</td>\n",
       "      <td>1688</td>\n",
       "      <td>13030</td>\n",
       "      <td>https://i.ytimg.com/vi/0dBIkQ4Mz1M/default.jpg</td>\n",
       "      <td>False</td>\n",
       "      <td>False</td>\n",
       "      <td>False</td>\n",
       "      <td>STill got a lot of packages. Probably will las...</td>\n",
       "      <td>Comedy</td>\n",
       "    </tr>\n",
       "    <tr>\n",
       "      <th>2</th>\n",
       "      <td>5qpjK5DgCt4</td>\n",
       "      <td>17.14.11</td>\n",
       "      <td>Racist Superman | Rudy Mancuso, King Bach &amp; Le...</td>\n",
       "      <td>Rudy Mancuso</td>\n",
       "      <td>23</td>\n",
       "      <td>2017-11-12T19:05:24.000Z</td>\n",
       "      <td>racist superman|\"rudy\"|\"mancuso\"|\"king\"|\"bach\"...</td>\n",
       "      <td>3191434</td>\n",
       "      <td>146035</td>\n",
       "      <td>5339</td>\n",
       "      <td>8181</td>\n",
       "      <td>https://i.ytimg.com/vi/5qpjK5DgCt4/default.jpg</td>\n",
       "      <td>False</td>\n",
       "      <td>False</td>\n",
       "      <td>False</td>\n",
       "      <td>WATCH MY PREVIOUS VIDEO ▶ \\n\\nSUBSCRIBE ► http...</td>\n",
       "      <td>Comedy</td>\n",
       "    </tr>\n",
       "    <tr>\n",
       "      <th>3</th>\n",
       "      <td>d380meD0W0M</td>\n",
       "      <td>17.14.11</td>\n",
       "      <td>I Dare You: GOING BALD!?</td>\n",
       "      <td>nigahiga</td>\n",
       "      <td>24</td>\n",
       "      <td>2017-11-12T18:01:41.000Z</td>\n",
       "      <td>ryan|\"higa\"|\"higatv\"|\"nigahiga\"|\"i dare you\"|\"...</td>\n",
       "      <td>2095828</td>\n",
       "      <td>132239</td>\n",
       "      <td>1989</td>\n",
       "      <td>17518</td>\n",
       "      <td>https://i.ytimg.com/vi/d380meD0W0M/default.jpg</td>\n",
       "      <td>False</td>\n",
       "      <td>False</td>\n",
       "      <td>False</td>\n",
       "      <td>I know it's been a while since we did this sho...</td>\n",
       "      <td>Entertainment</td>\n",
       "    </tr>\n",
       "    <tr>\n",
       "      <th>4</th>\n",
       "      <td>2Vv-BfVoq4g</td>\n",
       "      <td>17.14.11</td>\n",
       "      <td>Ed Sheeran - Perfect (Official Music Video)</td>\n",
       "      <td>Ed Sheeran</td>\n",
       "      <td>10</td>\n",
       "      <td>2017-11-09T11:04:14.000Z</td>\n",
       "      <td>edsheeran|\"ed sheeran\"|\"acoustic\"|\"live\"|\"cove...</td>\n",
       "      <td>33523622</td>\n",
       "      <td>1634130</td>\n",
       "      <td>21082</td>\n",
       "      <td>85067</td>\n",
       "      <td>https://i.ytimg.com/vi/2Vv-BfVoq4g/default.jpg</td>\n",
       "      <td>False</td>\n",
       "      <td>False</td>\n",
       "      <td>False</td>\n",
       "      <td>🎧: https://ad.gt/yt-perfect\\n💰: https://atlant...</td>\n",
       "      <td>Music</td>\n",
       "    </tr>\n",
       "  </tbody>\n",
       "</table>\n",
       "</div>"
      ],
      "text/plain": [
       "      video_id trending_date  \\\n",
       "0  n1WpP7iowLc      17.14.11   \n",
       "1  0dBIkQ4Mz1M      17.14.11   \n",
       "2  5qpjK5DgCt4      17.14.11   \n",
       "3  d380meD0W0M      17.14.11   \n",
       "4  2Vv-BfVoq4g      17.14.11   \n",
       "\n",
       "                                               title channel_title  \\\n",
       "0         Eminem - Walk On Water (Audio) ft. Beyoncé    EminemVEVO   \n",
       "1                      PLUSH - Bad Unboxing Fan Mail     iDubbbzTV   \n",
       "2  Racist Superman | Rudy Mancuso, King Bach & Le...  Rudy Mancuso   \n",
       "3                           I Dare You: GOING BALD!?      nigahiga   \n",
       "4        Ed Sheeran - Perfect (Official Music Video)    Ed Sheeran   \n",
       "\n",
       "   category_id              publish_time  \\\n",
       "0           10  2017-11-10T17:00:03.000Z   \n",
       "1           23  2017-11-13T17:00:00.000Z   \n",
       "2           23  2017-11-12T19:05:24.000Z   \n",
       "3           24  2017-11-12T18:01:41.000Z   \n",
       "4           10  2017-11-09T11:04:14.000Z   \n",
       "\n",
       "                                                tags     views    likes  \\\n",
       "0  Eminem|\"Walk\"|\"On\"|\"Water\"|\"Aftermath/Shady/In...  17158579   787425   \n",
       "1  plush|\"bad unboxing\"|\"unboxing\"|\"fan mail\"|\"id...   1014651   127794   \n",
       "2  racist superman|\"rudy\"|\"mancuso\"|\"king\"|\"bach\"...   3191434   146035   \n",
       "3  ryan|\"higa\"|\"higatv\"|\"nigahiga\"|\"i dare you\"|\"...   2095828   132239   \n",
       "4  edsheeran|\"ed sheeran\"|\"acoustic\"|\"live\"|\"cove...  33523622  1634130   \n",
       "\n",
       "   dislikes  comment_count                                  thumbnail_link  \\\n",
       "0     43420         125882  https://i.ytimg.com/vi/n1WpP7iowLc/default.jpg   \n",
       "1      1688          13030  https://i.ytimg.com/vi/0dBIkQ4Mz1M/default.jpg   \n",
       "2      5339           8181  https://i.ytimg.com/vi/5qpjK5DgCt4/default.jpg   \n",
       "3      1989          17518  https://i.ytimg.com/vi/d380meD0W0M/default.jpg   \n",
       "4     21082          85067  https://i.ytimg.com/vi/2Vv-BfVoq4g/default.jpg   \n",
       "\n",
       "   comments_disabled  ratings_disabled  video_error_or_removed  \\\n",
       "0              False             False                   False   \n",
       "1              False             False                   False   \n",
       "2              False             False                   False   \n",
       "3              False             False                   False   \n",
       "4              False             False                   False   \n",
       "\n",
       "                                         description  category_name  \n",
       "0  Eminem's new track Walk on Water ft. Beyoncé i...          Music  \n",
       "1  STill got a lot of packages. Probably will las...         Comedy  \n",
       "2  WATCH MY PREVIOUS VIDEO ▶ \\n\\nSUBSCRIBE ► http...         Comedy  \n",
       "3  I know it's been a while since we did this sho...  Entertainment  \n",
       "4  🎧: https://ad.gt/yt-perfect\\n💰: https://atlant...          Music  "
      ]
     },
     "execution_count": 16,
     "metadata": {},
     "output_type": "execute_result"
    }
   ],
   "source": [
    "# getting complete Df after adding category to df\n",
    "getCategoryJson = getCategoryFromJson(categoryDf)\n",
    "videoCompleteDF = appendCategoryToDataFrame(videoDFCP,getCategoryJson)\n",
    "videoCompleteDF.head(5)"
   ]
  },
  {
   "cell_type": "code",
   "execution_count": 17,
   "id": "32229cd4",
   "metadata": {},
   "outputs": [],
   "source": [
    "## WORD frequency plot\n",
    "## WOrdCloud\n",
    "tagsCategory = \"\"\n",
    "for i,row in videoCompleteDF.iterrows():\n",
    "    for tag in row[\"tags\"].split('|'):\n",
    "        tagsCategory+=tag\n",
    "#         if tag in tagsCategory:\n",
    "#             tagsCategory[tag] += 1\n",
    "#         else:\n",
    "#             tagsCategory[tag] = 1\n",
    "\n",
    "# dd = dict(sorted(tagsCategory.items(), key=lambda item: item[1],reverse=True))\n",
    "# dd\n"
   ]
  },
  {
   "cell_type": "code",
   "execution_count": 18,
   "id": "04fd0935",
   "metadata": {},
   "outputs": [],
   "source": [
    "# from collections import Counter\n",
    "# # dictionary=Counter(filtered_text)\n",
    "# import matplotlib.pyplot as plt\n",
    "# from wordcloud import WordCloud\n",
    "\n",
    "# cloud = WordCloud(max_font_size=80,colormap=\"hsv\").generate_from_frequencies(dd)\n",
    "# plt.figure(figsize=(16,12))\n",
    "# plt.imshow(cloud, interpolation='bilinear')\n",
    "# plt.axis('off')"
   ]
  },
  {
   "cell_type": "code",
   "execution_count": 19,
   "id": "9f38122c",
   "metadata": {},
   "outputs": [
    {
     "ename": "NameError",
     "evalue": "name 'wordcloud' is not defined",
     "output_type": "error",
     "traceback": [
      "\u001b[0;31m---------------------------------------------------------------------------\u001b[0m",
      "\u001b[0;31mNameError\u001b[0m                                 Traceback (most recent call last)",
      "Input \u001b[0;32mIn [19]\u001b[0m, in \u001b[0;36m<cell line: 4>\u001b[0;34m()\u001b[0m\n\u001b[1;32m      1\u001b[0m \u001b[38;5;28;01mfrom\u001b[39;00m \u001b[38;5;21;01mwordcloud\u001b[39;00m \u001b[38;5;28;01mimport\u001b[39;00m WordCloud, STOPWORDS\n\u001b[1;32m      3\u001b[0m WordCloud()\u001b[38;5;241m.\u001b[39mgenerate(tagsCategory)\n\u001b[0;32m----> 4\u001b[0m plt\u001b[38;5;241m.\u001b[39mimshow(\u001b[43mwordcloud\u001b[49m, interpolation\u001b[38;5;241m=\u001b[39m\u001b[38;5;124m'\u001b[39m\u001b[38;5;124mbilinear\u001b[39m\u001b[38;5;124m'\u001b[39m)\n\u001b[1;32m      5\u001b[0m plt\u001b[38;5;241m.\u001b[39maxis(\u001b[38;5;124m\"\u001b[39m\u001b[38;5;124moff\u001b[39m\u001b[38;5;124m\"\u001b[39m)\n\u001b[1;32m      6\u001b[0m plt\u001b[38;5;241m.\u001b[39mshow()\n",
      "\u001b[0;31mNameError\u001b[0m: name 'wordcloud' is not defined"
     ]
    }
   ],
   "source": [
    "from wordcloud import WordCloud, STOPWORDS\n",
    "\n",
    "WordCloud().generate(tagsCategory)\n",
    "plt.imshow(wordcloud, interpolation='bilinear')\n",
    "plt.axis(\"off\")\n",
    "plt.show()"
   ]
  },
  {
   "cell_type": "code",
   "execution_count": null,
   "id": "1e596b32",
   "metadata": {},
   "outputs": [],
   "source": [
    "TODO:::: "
   ]
  },
  {
   "cell_type": "code",
   "execution_count": null,
   "id": "c52f9daa",
   "metadata": {},
   "outputs": [],
   "source": []
  },
  {
   "cell_type": "code",
   "execution_count": null,
   "id": "363658c2",
   "metadata": {
    "scrolled": true
   },
   "outputs": [],
   "source": [
    "df.shape"
   ]
  },
  {
   "cell_type": "code",
   "execution_count": null,
   "id": "0a85a2fb",
   "metadata": {
    "scrolled": true
   },
   "outputs": [],
   "source": [
    "tahtemp =[]\n",
    "for i, row in df.iterrows():\n",
    "    tahtemp.append(row[\"tags\"].split(\"|\"))\n",
    "tahtemp[12]"
   ]
  },
  {
   "cell_type": "code",
   "execution_count": null,
   "id": "1a8b8da1",
   "metadata": {
    "scrolled": true
   },
   "outputs": [],
   "source": [
    "## common methods\n",
    "# what methods does.!!!"
   ]
  },
  {
   "cell_type": "code",
   "execution_count": null,
   "id": "c3a0bfe9",
   "metadata": {
    "scrolled": true
   },
   "outputs": [],
   "source": [
    "df.groupby(by=\"publish_time\").count().sort_values(by=\"video_id\",ascending=False)"
   ]
  },
  {
   "cell_type": "code",
   "execution_count": null,
   "id": "a1f61c57",
   "metadata": {
    "scrolled": true
   },
   "outputs": [],
   "source": [
    "def getColumnsList(data):\n",
    "    return [ x for x in data.columns]"
   ]
  },
  {
   "cell_type": "code",
   "execution_count": null,
   "id": "c1712126",
   "metadata": {
    "scrolled": true
   },
   "outputs": [],
   "source": [
    "df.info(null_counts=True)"
   ]
  },
  {
   "cell_type": "code",
   "execution_count": null,
   "id": "7d7a2dc7",
   "metadata": {
    "scrolled": false
   },
   "outputs": [],
   "source": [
    "jsonDF = pd.read_json(\"../archive/CA_category_id.json\")\n",
    "jsonDF.head()"
   ]
  },
  {
   "cell_type": "code",
   "execution_count": null,
   "id": "87a56dd6",
   "metadata": {
    "scrolled": true
   },
   "outputs": [],
   "source": [
    "jsonDF.shape"
   ]
  },
  {
   "cell_type": "code",
   "execution_count": null,
   "id": "3785eb03",
   "metadata": {
    "scrolled": true
   },
   "outputs": [],
   "source": [
    "jsonDF[\"items\"][0]"
   ]
  },
  {
   "cell_type": "code",
   "execution_count": null,
   "id": "de7e9075",
   "metadata": {
    "scrolled": true
   },
   "outputs": [],
   "source": [
    "def getCategoryFromJson(data):\n",
    "    import json\n",
    "    category = {}\n",
    "    for i, row in data.iterrows():\n",
    "        tempdict = dict(row)\n",
    "        category[tempdict[\"items\"][\"id\"]]= tempdict[\"items\"][\"snippet\"][\"title\"]\n",
    "    return category\n",
    "getCategoryFromJson(jsonDF)"
   ]
  },
  {
   "cell_type": "code",
   "execution_count": null,
   "id": "2443a9e1",
   "metadata": {
    "scrolled": true
   },
   "outputs": [],
   "source": [
    "def appendCategoryToDataFrame(dataFrame,category):\n",
    "    tempList = []\n",
    "    for i,row in dataFrame.iterrows():\n",
    "        if str(row[\"category_id\"]) in category.keys():\n",
    "            tempList.append(category[str(row[\"category_id\"])])\n",
    "        else :\n",
    "            tempList.append(None)\n",
    "    df[\"category_name\"] = tempList\n",
    "appendCategoryToDataFrame(df,getCategoryFromJson(jsonDF))\n",
    "getColumnsList(df)"
   ]
  },
  {
   "cell_type": "code",
   "execution_count": null,
   "id": "f02a66c1",
   "metadata": {
    "scrolled": true
   },
   "outputs": [],
   "source": [
    "df[df[\"category_name\"] == \"p\"].count()"
   ]
  },
  {
   "cell_type": "code",
   "execution_count": null,
   "id": "b59b293e",
   "metadata": {
    "scrolled": true
   },
   "outputs": [],
   "source": [
    "category.keys()"
   ]
  },
  {
   "cell_type": "code",
   "execution_count": null,
   "id": "664738e3",
   "metadata": {
    "scrolled": true
   },
   "outputs": [],
   "source": [
    "(type(row[\"category_id\"]))"
   ]
  },
  {
   "cell_type": "code",
   "execution_count": null,
   "id": "a4c69047",
   "metadata": {
    "scrolled": true
   },
   "outputs": [],
   "source": [
    "df.columns"
   ]
  },
  {
   "cell_type": "markdown",
   "id": "0e1dec43",
   "metadata": {},
   "source": [
    "Objective : Time to trends, and its relation between category"
   ]
  },
  {
   "cell_type": "code",
   "execution_count": null,
   "id": "591be2da",
   "metadata": {
    "scrolled": true
   },
   "outputs": [],
   "source": [
    "#import date\n",
    "from datetime import datetime,timezone\n",
    "tempDateList = []\n",
    "for i, row in df.iterrows():\n",
    "    tempDateList.append(datetime.fromisoformat(row[\"publish_time\"][:-1]).astimezone(timezone.utc).strftime('%Y-%m-%d %H:%M:%S'))\n",
    "    \n",
    "df[\"publishDate\"] = tempDateList"
   ]
  },
  {
   "cell_type": "code",
   "execution_count": null,
   "id": "6ff9fb5c",
   "metadata": {
    "scrolled": true
   },
   "outputs": [],
   "source": [
    "df[\"publishDate\"]"
   ]
  },
  {
   "cell_type": "code",
   "execution_count": null,
   "id": "be4b760d",
   "metadata": {
    "scrolled": true
   },
   "outputs": [],
   "source": [
    "df[\"publishDate\"] = pd.to_datetime(df[\"publishDate\"])"
   ]
  },
  {
   "cell_type": "markdown",
   "id": "28809920",
   "metadata": {},
   "source": [
    "time to trend "
   ]
  },
  {
   "cell_type": "code",
   "execution_count": null,
   "id": "f1fbd690",
   "metadata": {
    "scrolled": true
   },
   "outputs": [],
   "source": [
    "#import date\n",
    "from datetime import datetime,timezone\n",
    "trendingDate = []\n",
    "for i, row in df.iterrows():\n",
    "#     date = datetime.datetime.strptime(day.group(), '%Y-%m-%d').date()\n",
    "    trendingDate.append((datetime.strptime(row[\"trending_date\"], '%y.%d.%m').strftime('%Y-%m-%d')))\n",
    "\n",
    "df[\"trending_date\"] = trendingDate\n",
    "df[\"trending_date\"] = pd.to_datetime(df[\"trending_date\"])"
   ]
  },
  {
   "cell_type": "code",
   "execution_count": null,
   "id": "ccd787ca",
   "metadata": {
    "scrolled": true
   },
   "outputs": [],
   "source": [
    "df[\"treandingDiff\"]=df[\"trending_date\"] - df[\"publishDate\"]"
   ]
  },
  {
   "cell_type": "code",
   "execution_count": null,
   "id": "6a0d1e2c",
   "metadata": {
    "scrolled": true
   },
   "outputs": [],
   "source": [
    "df.columns"
   ]
  },
  {
   "cell_type": "code",
   "execution_count": null,
   "id": "432a80e1",
   "metadata": {
    "scrolled": true
   },
   "outputs": [],
   "source": [
    "df.head(10)"
   ]
  },
  {
   "cell_type": "code",
   "execution_count": null,
   "id": "737d480c",
   "metadata": {
    "scrolled": true
   },
   "outputs": [],
   "source": [
    "requiredDF = df[[\"category_id\",\"category_name\",\"treandingDiff\"]]\n",
    "requiredDF"
   ]
  },
  {
   "cell_type": "code",
   "execution_count": null,
   "id": "054201d8",
   "metadata": {
    "scrolled": true
   },
   "outputs": [],
   "source": [
    "requiredDF.columns"
   ]
  },
  {
   "cell_type": "code",
   "execution_count": null,
   "id": "bbf2ade1",
   "metadata": {
    "scrolled": true
   },
   "outputs": [],
   "source": [
    "requiredDF[\"treandingDiff\"].describe()"
   ]
  },
  {
   "cell_type": "code",
   "execution_count": null,
   "id": "5203190a",
   "metadata": {
    "scrolled": false
   },
   "outputs": [],
   "source": [
    "df_gB = df.groupby(by=\"category_name\").count()\n",
    "df_gB"
   ]
  },
  {
   "cell_type": "code",
   "execution_count": null,
   "id": "3d8e60f7",
   "metadata": {
    "scrolled": false
   },
   "outputs": [],
   "source": [
    "df.groupby(by=\"channel_title\").count().sort_values(\"video_id\", ascending=False)"
   ]
  },
  {
   "cell_type": "code",
   "execution_count": null,
   "id": "3f684a5d",
   "metadata": {
    "scrolled": true
   },
   "outputs": [],
   "source": [
    "requiredDF[\"category_name\"]"
   ]
  },
  {
   "cell_type": "code",
   "execution_count": null,
   "id": "7e759cab",
   "metadata": {
    "scrolled": true
   },
   "outputs": [],
   "source": [
    "# import matplotlib.pyplot as plt\n",
    "# plt.bar(requiredDF[requiredDF[\"category_id\"] == 1][\"category_id\"],requiredDF[requiredDF[\"category_id\"] == 1][\"treandingDiff\"])\n",
    "# plt.bar(requiredDF[requiredDF[\"category_id\"] == 2][\"category_id\"],requiredDF[requiredDF[\"category_id\"] == 2][\"treandingDiff\"])\n",
    "# plt.bar(requiredDF[requiredDF[\"category_id\"] == 23][\"category_id\"],requiredDF[requiredDF[\"category_id\"] == 23][\"treandingDiff\"])\n",
    "# plt.bar(requiredDF[requiredDF[\"category_id\"] == 24][\"category_id\"],requiredDF[requiredDF[\"category_id\"] == 24][\"treandingDiff\"])\n",
    "# plt.bar(requiredDF[requiredDF[\"category_id\"] == 10][\"category_id\"],requiredDF[requiredDF[\"category_id\"] == 10][\"treandingDiff\"])\n",
    "# plt.bar(requiredDF[requiredDF[\"category_id\"] == 25][\"category_id\"],requiredDF[requiredDF[\"category_id\"] == 25][\"treandingDiff\"])\n",
    "# plt.bar(requiredDF[requiredDF[\"category_id\"] == 22][\"category_id\"],requiredDF[requiredDF[\"category_id\"] == 22][\"treandingDiff\"])\n",
    "# plt.bar(requiredDF[requiredDF[\"category_id\"] == 26][\"category_id\"],requiredDF[requiredDF[\"category_id\"] == 26][\"treandingDiff\"])\n",
    "# plt.bar(requiredDF[requiredDF[\"category_id\"] == 28][\"category_id\"],requiredDF[requiredDF[\"category_id\"] == 28][\"treandingDiff\"])\n"
   ]
  },
  {
   "cell_type": "code",
   "execution_count": null,
   "id": "f461169d",
   "metadata": {
    "scrolled": true
   },
   "outputs": [],
   "source": [
    "XVal=requiredDF[\"category_name\"].unique()\n",
    "XVal"
   ]
  },
  {
   "cell_type": "code",
   "execution_count": null,
   "id": "7fb6ed29",
   "metadata": {
    "scrolled": true
   },
   "outputs": [],
   "source": [
    "YVal = requiredDF[\"category_name\"].value_counts()\n",
    "YVal"
   ]
  },
  {
   "cell_type": "code",
   "execution_count": null,
   "id": "c236319b",
   "metadata": {
    "scrolled": true
   },
   "outputs": [],
   "source": [
    "plt.bar(XVal,YVal)"
   ]
  },
  {
   "cell_type": "code",
   "execution_count": null,
   "id": "59ae17b7",
   "metadata": {
    "scrolled": true
   },
   "outputs": [],
   "source": [
    "### like to dislike ratio\n",
    "### view ratio\n",
    "### View per category"
   ]
  },
  {
   "cell_type": "code",
   "execution_count": null,
   "id": "73461b60",
   "metadata": {
    "scrolled": true
   },
   "outputs": [],
   "source": [
    "df[\"channel_title\"].value_counts()[:25]"
   ]
  },
  {
   "cell_type": "code",
   "execution_count": null,
   "id": "f7410b0d",
   "metadata": {
    "scrolled": true
   },
   "outputs": [],
   "source": [
    "df.sort_values(\"views\", ascending=False)"
   ]
  },
  {
   "cell_type": "code",
   "execution_count": null,
   "id": "b883d661",
   "metadata": {
    "scrolled": true
   },
   "outputs": [],
   "source": [
    "Factor "
   ]
  },
  {
   "cell_type": "code",
   "execution_count": null,
   "id": "4117bcd4",
   "metadata": {
    "scrolled": true
   },
   "outputs": [],
   "source": [
    "import sklearn.neighbors as skn\n",
    "from sklearn.model_selection import train_test_split\n",
    "x = \n",
    "X_train, X_test, Y_train, Y_train = train_test_split()"
   ]
  },
  {
   "cell_type": "code",
   "execution_count": null,
   "id": "e854d211",
   "metadata": {
    "scrolled": true
   },
   "outputs": [],
   "source": [
    "# # correc the type of tranding_date\n",
    "# df[\"trending_date\"]=pd.to_datetime(df[\"trending_date\"],format=\"%y.%d.%m\")\n",
    "# # correct the type of published_time\n",
    "# df[\"publish_time\"]=pd.to_datetime(df[\"publish_time\"])"
   ]
  },
  {
   "cell_type": "code",
   "execution_count": null,
   "id": "2a8705f8",
   "metadata": {
    "scrolled": true
   },
   "outputs": [],
   "source": [
    "##Object 1 :\n"
   ]
  },
  {
   "cell_type": "code",
   "execution_count": null,
   "id": "fa95f734",
   "metadata": {
    "scrolled": true
   },
   "outputs": [],
   "source": [
    "##Object 2 :\n"
   ]
  },
  {
   "cell_type": "code",
   "execution_count": null,
   "id": "c0b2064b",
   "metadata": {
    "scrolled": true
   },
   "outputs": [],
   "source": [
    "##Object 3 :\n"
   ]
  },
  {
   "cell_type": "code",
   "execution_count": null,
   "id": "f5f710da",
   "metadata": {
    "scrolled": true
   },
   "outputs": [],
   "source": [
    "##Object 4 :\n"
   ]
  }
 ],
 "metadata": {
  "kernelspec": {
   "display_name": "Python 3 (ipykernel)",
   "language": "python",
   "name": "python3"
  },
  "language_info": {
   "codemirror_mode": {
    "name": "ipython",
    "version": 3
   },
   "file_extension": ".py",
   "mimetype": "text/x-python",
   "name": "python",
   "nbconvert_exporter": "python",
   "pygments_lexer": "ipython3",
   "version": "3.9.12"
  }
 },
 "nbformat": 4,
 "nbformat_minor": 5
}
